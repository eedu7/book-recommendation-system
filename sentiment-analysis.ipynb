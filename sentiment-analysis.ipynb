{
 "cells": [
  {
   "cell_type": "code",
   "execution_count": 1,
   "id": "a0238b06-2915-4284-9302-fcf98511ea4a",
   "metadata": {},
   "outputs": [],
   "source": [
    "import pandas as pd\n",
    "\n",
    "books = pd.read_csv(\"./datasets/books_with_categories.csv\")"
   ]
  },
  {
   "cell_type": "code",
   "execution_count": 15,
   "id": "c09903cd-86ec-48ba-9bed-b0bdd56b98b9",
   "metadata": {},
   "outputs": [
    {
     "name": "stderr",
     "output_type": "stream",
     "text": [
      "All model checkpoint layers were used when initializing TFRobertaForSequenceClassification.\n",
      "\n",
      "All the layers of TFRobertaForSequenceClassification were initialized from the model checkpoint at j-hartmann/emotion-english-distilroberta-base.\n",
      "If your task is similar to the task the model of the checkpoint was trained on, you can already use TFRobertaForSequenceClassification for predictions without further training.\n",
      "Device set to use 0\n"
     ]
    }
   ],
   "source": [
    "from transformers import pipeline\n",
    "\n",
    "classifier = pipeline(\n",
    "    \"text-classification\",\n",
    "    model = \"j-hartmann/emotion-english-distilroberta-base\",\n",
    "    top_k = None,\n",
    "    device=0\n",
    ")"
   ]
  },
  {
   "cell_type": "code",
   "execution_count": 16,
   "id": "fc86cd94-2e78-411d-aca2-a29c382f460c",
   "metadata": {},
   "outputs": [
    {
     "data": {
      "text/plain": [
       "[[{'label': 'joy', 'score': 0.9771831035614014},\n",
       "  {'label': 'surprise', 'score': 0.008522207848727703},\n",
       "  {'label': 'neutral', 'score': 0.005764706060290337},\n",
       "  {'label': 'anger', 'score': 0.004416599869728088},\n",
       "  {'label': 'sadness', 'score': 0.0020901544485241175},\n",
       "  {'label': 'disgust', 'score': 0.0016098330961540341},\n",
       "  {'label': 'fear', 'score': 0.00041336481808684766}]]"
      ]
     },
     "execution_count": 16,
     "metadata": {},
     "output_type": "execute_result"
    }
   ],
   "source": [
    "classifier(\"I love this!\")"
   ]
  },
  {
   "cell_type": "code",
   "execution_count": 17,
   "id": "9d0a4849-bd99-443c-b76f-8538bc35064a",
   "metadata": {},
   "outputs": [
    {
     "data": {
      "text/plain": [
       "'A NOVEL THAT READERS and critics have been eagerly anticipating for over a decade, Gilead is an astonishingly imagined story of remarkable lives. John Ames is a preacher, the son of a preacher and the grandson (both maternal and paternal) of preachers. It’s 1956 in Gilead, Iowa, towards the end of the Reverend Ames’s life, and he is absorbed in recording his family’s story, a legacy for the young son he will never see grow up. Haunted by his grandfather’s presence, John tells of the rift between his grandfather and his father: the elder, an angry visionary who fought for the abolitionist cause, and his son, an ardent pacifist. He is troubled, too, by his prodigal namesake, Jack (John Ames) Boughton, his best friend’s lost son who returns to Gilead searching for forgiveness and redemption. Told in John Ames’s joyous, rambling voice that finds beauty, humour and truth in the smallest of life’s details, Gilead is a song of celebration and acceptance of the best and the worst the world has to offer. At its heart is a tale of the sacred bonds between fathers and sons, pitch-perfect in style and story, set to dazzle critics and readers alike.'"
      ]
     },
     "execution_count": 17,
     "metadata": {},
     "output_type": "execute_result"
    }
   ],
   "source": [
    "books[\"description\"][0]"
   ]
  },
  {
   "cell_type": "code",
   "execution_count": 18,
   "id": "ef94e0e5-4acd-440a-8582-6dc0e63286ba",
   "metadata": {},
   "outputs": [
    {
     "data": {
      "text/plain": [
       "[[{'label': 'fear', 'score': 0.6546940803527832},\n",
       "  {'label': 'neutral', 'score': 0.16979697346687317},\n",
       "  {'label': 'sadness', 'score': 0.11659283936023712},\n",
       "  {'label': 'surprise', 'score': 0.020702548325061798},\n",
       "  {'label': 'disgust', 'score': 0.019115153700113297},\n",
       "  {'label': 'joy', 'score': 0.015163161791861057},\n",
       "  {'label': 'anger', 'score': 0.0039353142492473125}]]"
      ]
     },
     "execution_count": 18,
     "metadata": {},
     "output_type": "execute_result"
    }
   ],
   "source": [
    "classifier(books[\"description\"][0])"
   ]
  },
  {
   "cell_type": "code",
   "execution_count": 22,
   "id": "35bb14c6-30b8-47c7-a648-af987d254199",
   "metadata": {
    "scrolled": true
   },
   "outputs": [],
   "source": [
    "predictions = classifier(books[\"description\"][0].split(\".\"))"
   ]
  },
  {
   "cell_type": "code",
   "execution_count": 23,
   "id": "daa85134-73f0-432f-9c01-a24f3d83ec27",
   "metadata": {},
   "outputs": [
    {
     "data": {
      "text/plain": [
       "'A NOVEL THAT READERS and critics have been eagerly anticipating for over a decade, Gilead is an astonishingly imagined story of remarkable lives'"
      ]
     },
     "execution_count": 23,
     "metadata": {},
     "output_type": "execute_result"
    }
   ],
   "source": [
    "sentence = books[\"description\"][0].split(\".\")\n",
    "sentence[0]"
   ]
  },
  {
   "cell_type": "code",
   "execution_count": 24,
   "id": "3252668a-e871-4280-b5e2-0fc88c80b45c",
   "metadata": {},
   "outputs": [
    {
     "data": {
      "text/plain": [
       "[{'label': 'surprise', 'score': 0.7296899557113647},\n",
       " {'label': 'neutral', 'score': 0.14041072130203247},\n",
       " {'label': 'fear', 'score': 0.06813927739858627},\n",
       " {'label': 'joy', 'score': 0.047856222838163376},\n",
       " {'label': 'anger', 'score': 0.009153462015092373},\n",
       " {'label': 'disgust', 'score': 0.0026283222250640392},\n",
       " {'label': 'sadness', 'score': 0.002121988218277693}]"
      ]
     },
     "execution_count": 24,
     "metadata": {},
     "output_type": "execute_result"
    }
   ],
   "source": [
    "predictions[0]"
   ]
  },
  {
   "cell_type": "code",
   "execution_count": 27,
   "id": "fdd43e41-9f2a-4a58-88fb-45babb8a131d",
   "metadata": {},
   "outputs": [
    {
     "data": {
      "text/plain": [
       "' Haunted by his grandfather’s presence, John tells of the rift between his grandfather and his father: the elder, an angry visionary who fought for the abolitionist cause, and his son, an ardent pacifist'"
      ]
     },
     "execution_count": 27,
     "metadata": {},
     "output_type": "execute_result"
    }
   ],
   "source": [
    "sentence[3]"
   ]
  },
  {
   "cell_type": "code",
   "execution_count": 28,
   "id": "fe3d5042-cfc6-4456-b5f7-ddfd7b24ab87",
   "metadata": {},
   "outputs": [
    {
     "data": {
      "text/plain": [
       "[{'label': 'fear', 'score': 0.9279921054840088},\n",
       " {'label': 'anger', 'score': 0.03229950740933418},\n",
       " {'label': 'neutral', 'score': 0.0128178671002388},\n",
       " {'label': 'sadness', 'score': 0.008772886358201504},\n",
       " {'label': 'surprise', 'score': 0.008618028834462166},\n",
       " {'label': 'disgust', 'score': 0.008454025723040104},\n",
       " {'label': 'joy', 'score': 0.001045519020408392}]"
      ]
     },
     "execution_count": 28,
     "metadata": {},
     "output_type": "execute_result"
    }
   ],
   "source": [
    "predictions[3]"
   ]
  },
  {
   "cell_type": "code",
   "execution_count": 30,
   "id": "8f7e65d5-84d3-4e81-9d28-3cf3e97dd2bf",
   "metadata": {},
   "outputs": [
    {
     "data": {
      "text/plain": [
       "[{'label': 'anger', 'score': 0.009153462015092373},\n",
       " {'label': 'disgust', 'score': 0.0026283222250640392},\n",
       " {'label': 'fear', 'score': 0.06813927739858627},\n",
       " {'label': 'joy', 'score': 0.047856222838163376},\n",
       " {'label': 'neutral', 'score': 0.14041072130203247},\n",
       " {'label': 'sadness', 'score': 0.002121988218277693},\n",
       " {'label': 'surprise', 'score': 0.7296899557113647}]"
      ]
     },
     "execution_count": 30,
     "metadata": {},
     "output_type": "execute_result"
    }
   ],
   "source": [
    "sorted(predictions[0], key=lambda x: x[\"label\"])"
   ]
  },
  {
   "cell_type": "code",
   "execution_count": 35,
   "id": "05da5d8d-bf2d-4eba-aa2c-d05a4517deee",
   "metadata": {},
   "outputs": [],
   "source": [
    "import numpy as np\n",
    "\n",
    "emotion_labels = [\"anger\", \"disgust\", \"fear\", \"joy\", \"neutral\", \"sadness\", \"surprise\"]\n",
    "isbn = [] \n",
    "emotion_scores = {label: [] for label in emotion_labels}\n",
    "\n",
    "def calculate_max_emotion_scores(predictiosn):\n",
    "    per_emotion_scores = {label: [] for label in emotion_labels}\n",
    "    for prediction in predictions:\n",
    "        sorted_predictions = sorted(prediction, key=lambda x: x[\"label\"])\n",
    "        for index, label in enumerate(emotion_labels):\n",
    "            per_emotion_scores[label].append(sorted_predictions[index][\"score\"])\n",
    "\n",
    "    return {label: np.max(scores) for label, scores in per_emotion_scores.items()}"
   ]
  },
  {
   "cell_type": "code",
   "execution_count": 38,
   "id": "9d61ca8b-0fdb-4dbd-a663-fe0f7dce0f92",
   "metadata": {},
   "outputs": [
    {
     "name": "stderr",
     "output_type": "stream",
     "text": [
      "100%|████████████████████████████████████████████████████████████████████████████████████████| 10/10 [02:34<00:00, 15.42s/it]\n"
     ]
    }
   ],
   "source": [
    "from tqdm import tqdm\n",
    "\n",
    "for i in tqdm(range(10)):\n",
    "    isbn.append(books[\"isbn13\"][i])\n",
    "    sentences= books[\"description\"][i].split()\n",
    "    predictions = classifier(sentences)\n",
    "    max_scores = calculate_max_emotion_scores(predictions)\n",
    "    for label in emotion_labels:\n",
    "        emotion_scores[label].append(max_scores[label])"
   ]
  },
  {
   "cell_type": "code",
   "execution_count": 39,
   "id": "ae13207d-8bf0-4efb-8bf0-9ecc580ce062",
   "metadata": {
    "scrolled": true
   },
   "outputs": [
    {
     "data": {
      "text/plain": [
       "{'anger': [0.9597889184951782,\n",
       "  0.8685598969459534,\n",
       "  0.9098340272903442,\n",
       "  0.2986922562122345,\n",
       "  0.4047142565250397,\n",
       "  0.1822400540113449,\n",
       "  0.7623999118804932,\n",
       "  0.33344241976737976,\n",
       "  0.636991024017334,\n",
       "  0.1930156648159027],\n",
       " 'disgust': [0.9547021389007568,\n",
       "  0.6384161710739136,\n",
       "  0.43453630805015564,\n",
       "  0.4200974106788635,\n",
       "  0.23651501536369324,\n",
       "  0.569498598575592,\n",
       "  0.4315760135650635,\n",
       "  0.11937256902456284,\n",
       "  0.6588069796562195,\n",
       "  0.1866736263036728],\n",
       " 'fear': [0.8833518624305725,\n",
       "  0.5188772082328796,\n",
       "  0.9310702681541443,\n",
       "  0.9438542127609253,\n",
       "  0.2750580310821533,\n",
       "  0.3342118263244629,\n",
       "  0.9232286810874939,\n",
       "  0.452020525932312,\n",
       "  0.36169230937957764,\n",
       "  0.24676461517810822],\n",
       " 'joy': [0.9695032238960266,\n",
       "  0.47738921642303467,\n",
       "  0.9367653131484985,\n",
       "  0.7361072897911072,\n",
       "  0.1864885538816452,\n",
       "  0.12233678996562958,\n",
       "  0.974264919757843,\n",
       "  0.8970750570297241,\n",
       "  0.9367653131484985,\n",
       "  0.14794574677944183],\n",
       " 'neutral': [0.9341217875480652,\n",
       "  0.94412761926651,\n",
       "  0.8921584486961365,\n",
       "  0.9195210933685303,\n",
       "  0.9174190163612366,\n",
       "  0.9322812557220459,\n",
       "  0.9374091029167175,\n",
       "  0.9051170945167542,\n",
       "  0.925619900226593,\n",
       "  0.9005944728851318],\n",
       " 'sadness': [0.9136790633201599,\n",
       "  0.897753894329071,\n",
       "  0.48044636845588684,\n",
       "  0.48044636845588684,\n",
       "  0.8797999024391174,\n",
       "  0.17278166115283966,\n",
       "  0.7601172924041748,\n",
       "  0.31690049171447754,\n",
       "  0.9188989996910095,\n",
       "  0.17681141197681427],\n",
       " 'surprise': [0.910504162311554,\n",
       "  0.42097464203834534,\n",
       "  0.4623718857765198,\n",
       "  0.505030632019043,\n",
       "  0.7359929084777832,\n",
       "  0.23127496242523193,\n",
       "  0.5380116105079651,\n",
       "  0.2848646938800812,\n",
       "  0.782137393951416,\n",
       "  0.40631142258644104]}"
      ]
     },
     "execution_count": 39,
     "metadata": {},
     "output_type": "execute_result"
    }
   ],
   "source": [
    "emotion_scores"
   ]
  },
  {
   "cell_type": "code",
   "execution_count": null,
   "id": "8008cc18-52d2-4ddb-b71b-c677be6b77c3",
   "metadata": {},
   "outputs": [
    {
     "name": "stderr",
     "output_type": "stream",
     "text": [
      "  0%|                                                                                    | 1/5197 [00:32<46:14:28, 32.04s/it]"
     ]
    }
   ],
   "source": [
    "from tqdm import tqdm\n",
    "\n",
    "emotion_labels = [\"anger\", \"disgust\", \"fear\", \"joy\", \"neutral\", \"sadness\", \"surprise\"]\n",
    "isbn = [] \n",
    "emotion_scores = {label: [] for label in emotion_labels}\n",
    "\n",
    "for i in tqdm(range(len(books))):\n",
    "    isbn.append(books[\"isbn13\"][i])\n",
    "    sentences= books[\"description\"][i].split()\n",
    "    predictions = classifier(sentences)\n",
    "    max_scores = calculate_max_emotion_scores(predictions)\n",
    "    for label in emotion_labels:\n",
    "        emotion_scores[label].append(max_scores[label])"
   ]
  },
  {
   "cell_type": "code",
   "execution_count": null,
   "id": "181e984e-3460-4763-ba91-c7b810c2e178",
   "metadata": {},
   "outputs": [],
   "source": [
    "emotion_df = pd.DataFrame(emotion_scores)\n",
    "emotion_df[\"isbn13\"] = isbn"
   ]
  },
  {
   "cell_type": "code",
   "execution_count": null,
   "id": "638d2827-b257-4301-b232-eb1ea2d5ef01",
   "metadata": {},
   "outputs": [],
   "source": [
    "books = pd.merge(books,emotion_df, on=\"isbn13\")"
   ]
  },
  {
   "cell_type": "code",
   "execution_count": null,
   "id": "ab71016d-83e0-4808-9e19-af462cf5dd0f",
   "metadata": {},
   "outputs": [],
   "source": [
    "books.to_csv(\"books_with_emotions.csv\")"
   ]
  }
 ],
 "metadata": {
  "kernelspec": {
   "display_name": "Python 3 (ipykernel)",
   "language": "python",
   "name": "python3"
  },
  "language_info": {
   "codemirror_mode": {
    "name": "ipython",
    "version": 3
   },
   "file_extension": ".py",
   "mimetype": "text/x-python",
   "name": "python",
   "nbconvert_exporter": "python",
   "pygments_lexer": "ipython3",
   "version": "3.10.16"
  }
 },
 "nbformat": 4,
 "nbformat_minor": 5
}
